{
 "cells": [
  {
   "cell_type": "markdown",
   "metadata": {},
   "source": [
    "# 预备知识"
   ]
  },
  {
   "cell_type": "markdown",
   "metadata": {},
   "source": [
    "#### Python基础(一些语法糖)"
   ]
  },
  {
   "cell_type": "code",
   "execution_count": 5,
   "metadata": {},
   "outputs": [
    {
     "name": "stdout",
     "output_type": "stream",
     "text": [
      "['ustc edu', 'ustc com', 'nico edu', 'nico com']\n",
      "666\n",
      "[0, 1, 4, 9, 16, 25, 36, 49, 64, 81]\n",
      "[0, 1, 4, 9, 16, 25, 36, 49, 64, 81]\n",
      "[(1, 'a'), (2, 'b'), (3, 'c'), (4, 'd')]\n",
      "[(1, 2, 3, 4), ('a', 'b', 'c', 'd')]\n",
      "1 a\n",
      "2 b\n",
      "3 c\n",
      "4 d\n",
      "enumerate result:\n",
      "0 a\n",
      "1 b\n",
      "2 c\n",
      "3 d\n",
      "{1: 'a', 2: 'b', 3: 'c', 4: 'd'}\n"
     ]
    }
   ],
   "source": [
    "# 列表推导式(支持多层嵌套)\n",
    "print([m + ' ' + n for m in ['ustc', 'nico'] for n in ['edu', 'com']]) \n",
    "# 带if选择的条件赋值\n",
    "value = '666' if 2 > 1 else '444'\n",
    "print(value)\n",
    "\n",
    "# 匿名函数\n",
    "print([(lambda x: x * x)(i) for i in range(10)])\n",
    "# 用map函数实现, 需要调用list()函数转换为列表\n",
    "print(list(map(lambda x: x * x, range(10))))\n",
    "\n",
    "# zip函数将可迭代对象打包成元组, 通常用于循环\n",
    "L1 = [1, 2, 3, 4]\n",
    "L2 = ['a', 'b', 'c', 'd']\n",
    "print(list(zip(L1, L2)))\n",
    "# 解压操作zip(*)\n",
    "print(list(zip(*zip(L1, L2))))\n",
    "for (x, y) in zip(L1, L2):\n",
    "    print(x, y)\n",
    "# enumerate函数在迭代时绑定遍历序号, 通常用于循环\n",
    "print('enumerate result:')\n",
    "for index, value in enumerate(L2):\n",
    "    print(index, value)\n",
    "# 对两个列表建立字典映射时, 可以用zip函数\n",
    "print(dict(zip(L1, L2)))"
   ]
  },
  {
   "cell_type": "markdown",
   "metadata": {},
   "source": [
    "#### Numpy基础"
   ]
  },
  {
   "cell_type": "code",
   "execution_count": 16,
   "metadata": {},
   "outputs": [
    {
     "name": "stdout",
     "output_type": "stream",
     "text": [
      "[1 2 3]\n",
      "[0 2 4 6 8]\n",
      "[1.  1.4 1.8 2.2 2.6 3.  3.4 3.8 4.2 4.6 5. ]\n",
      "全0矩阵\n",
      "[[0. 0. 0.]\n",
      " [0. 0. 0.]]\n",
      "单位矩阵\n",
      "[[1. 0. 0.]\n",
      " [0. 1. 0.]\n",
      " [0. 0. 1.]]\n",
      "[[0. 1. 0.]\n",
      " [0. 0. 1.]\n",
      " [0. 0. 0.]]\n",
      "对角矩阵\n",
      "[[1 0 0]\n",
      " [0 2 0]\n",
      " [0 0 3]]\n",
      "全10矩阵\n",
      "[[10 10 10]\n",
      " [10 10 10]]\n",
      "随机矩阵\n",
      "[[0.13371985 0.89374354 0.77169338]\n",
      " [0.98236722 0.73904041 0.30859929]]\n",
      "[[-1.89460649 -0.25769103  0.1788687 ]\n",
      " [-1.18546341 -1.14782278 -1.84632015]]\n",
      "[[1 7 3]\n",
      " [9 9 1]]\n",
      "[[30 20 10]\n",
      " [20 20 20]\n",
      " [30 30 20]]\n",
      "['edu' 'ustc' 'com' 'nico']\n"
     ]
    }
   ],
   "source": [
    "# numpy数组构造\n",
    "import numpy as np\n",
    "print(np.array([1, 2, 3]))\n",
    "# 生成等差数列\n",
    "print(np.arange(0, 10, 2)) # 起始值, 终止值, 步长\n",
    "print(np.linspace(1, 5, 11)) # 起始值, 终止值, 样本个数\n",
    "# 特殊矩阵\n",
    "print('全0矩阵')\n",
    "print(np.zeros((2, 3))) # 全0矩阵\n",
    "print('单位矩阵')\n",
    "print(np.eye(3)) # 3*3单位矩阵\n",
    "print(np.eye(3, k=1)) # 3*3单位矩阵, 偏移主对角线为1\n",
    "print('对角矩阵')\n",
    "print(np.diag([1, 2, 3])) # 对角矩阵\n",
    "print('全10矩阵')\n",
    "print(np.full((2, 3), 10)) # 全10矩阵\n",
    "print('随机矩阵')\n",
    "print(np.random.rand(2, 3)) # 随机矩阵0-1均匀分布\n",
    "print(np.random.randn(2, 3)) # 随机矩阵标准正态分布\n",
    "print(np.random.randint(0, 10, (2, 3))) # 随机矩阵整数均匀分布(2, 3)为维度\n",
    "print(np.random.choice([10, 20, 30], (3, 3), p=[0.4, 0.2, 0.4]))# 以一定概率进行选择\n",
    "print(np.random.permutation(['ustc', 'nico', 'edu', 'com'])) # 打散原列表"
   ]
  },
  {
   "cell_type": "code",
   "execution_count": 38,
   "metadata": {},
   "outputs": [
    {
     "name": "stdout",
     "output_type": "stream",
     "text": [
      "[[0. 0.]\n",
      " [0. 0.]\n",
      " [0. 0.]\n",
      " [0. 0.]]\n",
      "[[0. 0. 0.]\n",
      " [0. 0. 0.]\n",
      " [1. 1. 1.]\n",
      " [1. 1. 1.]]\n",
      "[[0. 0. 0. 1. 1. 1.]\n",
      " [0. 0. 0. 1. 1. 1.]]\n",
      "[[1. 0. 0. 0.]\n",
      " [1. 0. 0. 0.]]\n",
      "[[-0.24454107  0.52428338]\n",
      " [ 0.7650059  -1.07872579]\n",
      " [ 0.13288399 -0.72405317]]\n",
      "[-0.53593531 -0.87311507  0.19633392 -0.43977484 -0.36122564 -0.8701521 ]\n",
      "[[0 1 2]\n",
      " [3 4 5]\n",
      " [6 7 8]]\n",
      "[[4 5]\n",
      " [7 8]]\n",
      "[[3 4 5]\n",
      " [6 7 8]]\n",
      "[[3 5]\n",
      " [6 8]]\n"
     ]
    }
   ],
   "source": [
    "# numpy数组变形、合并等操作\n",
    "# 转置\n",
    "print(np.zeros((2,4)).T)\n",
    "# 合并\n",
    "print(np.r_[np.zeros((2, 3)), np.ones((2, 3))]) # 按行合并\n",
    "print(np.c_[np.zeros((2, 3)), np.ones((2, 3))]) # 按列合并\n",
    "print(np.c_[np.array([1,1]), np.zeros((2, 3))]) # 一维二维数组合并, 按列合并\n",
    "# 维度变换 \n",
    "print(np.random.randn(6).reshape((3, 2))) # 2*3变为3*2\n",
    "print(np.random.randn(2,3).reshape(-1)) # reshape(-1)将多维数组变为一维数组, 允许一个维数空缺\n",
    "# 数组切片\n",
    "print(np.arange(9).reshape(3, 3))\n",
    "print(np.arange(9).reshape(3, 3)[1:3, 1:3]) # 二维数组切片\n",
    "print(np.arange(9).reshape(3, 3)[1:3, :]) # 二维数组切片\n",
    "print(np.arange(9).reshape(3, 3)[np.ix_([1,2], [True, False, True])]) # 在对应的维度上使用布尔索引, 此时不能使用slice切片"
   ]
  },
  {
   "cell_type": "code",
   "execution_count": 55,
   "metadata": {},
   "outputs": [
    {
     "name": "stdout",
     "output_type": "stream",
     "text": [
      "[[0 1 1]\n",
      " [1 1 1]\n",
      " [1 1 1]]\n",
      "(array([1, 2, 3, 4, 5, 6, 7, 8], dtype=int64),)\n",
      "8\n",
      "0\n",
      "True\n",
      "False\n",
      "[1 2 3 4]\n",
      "[ 1  2  6 24]\n",
      "[ 1  3  6 10]\n",
      "[1 1 1]\n",
      "2.5\n",
      "[ 1.  2. nan  3.]\n",
      "6.0\n",
      "协方差、相关系数的计算\n",
      "[[ 11.66666667 -16.66666667]\n",
      " [-16.66666667  38.66666667]]\n",
      "[[1.         0.84615385]\n",
      " [0.84615385 1.        ]]\n",
      "[ 9 12 15]\n",
      "[ 3 12 21]\n"
     ]
    }
   ],
   "source": [
    "# 常用函数\n",
    "# where函数指定满足条件和不满足条件的填充值\n",
    "print(np.where(np.arange(9).reshape(3, 3) > 0, 1, 0))\n",
    "# 返回索引函数: nonzero, argmax, argmin\n",
    "# nonzero返回非零元素的索引\n",
    "print(np.nonzero(np.arange(9)))\n",
    "# argmax返回最大值的索引\n",
    "print(np.argmax(np.arange(9)))\n",
    "# argmin返回最小值的索引\n",
    "print(np.argmin(np.arange(9)))\n",
    "# any函数: 当序列至少有一个True或非零元素时返回True\n",
    "print(np.any(np.arange(2)))\n",
    "# all函数: 当序列所有元素都为True或非零元素时返回True\n",
    "print(np.all(np.arange(2)))\n",
    "print(np.arange(1, 5))\n",
    "# cumprod函数: 返回给定序列的累积乘法结果\n",
    "print(np.cumprod(np.arange(1, 5)))\n",
    "# cumsum函数: 返回给定序列的累积加法结果\n",
    "print(np.cumsum(np.arange(1, 5)))\n",
    "# diff函数: 返回给定序列的累积差值, 返回长度比原序列少1\n",
    "print(np.diff(np.arange(1, 5)))\n",
    "# 统计函数: sum, mean, std, var, max, min, median, average, quantile(全局函数, 不能通过array.quantile()调用)\n",
    "print(np.quantile(np.arange(1, 5), 0.5)) # 返回给定序列的分位数, 这里是中位数\n",
    "# 忽略有缺失值数组\n",
    "print(np.array([1, 2, np.nan, 3]))\n",
    "print(np.nansum(np.array([1, 2, np.nan, 3])))\n",
    "print('协方差、相关系数的计算')\n",
    "print(np.cov(np.array([1, 3, 5, 9]), np.array([1, 5, 3, -9]))) # 协方差\n",
    "print(np.corrcoef(np.array([1, 2, 5]), np.array([2, 5, 6]))) # 相关系数\n",
    "# 二维NUmpy数组的axis参数: axis=0表示列的统计指标; axis=1表示行的统计指标\n",
    "print(np.arange(9).reshape(3, 3).sum(axis=0))\n",
    "print(np.arange(9).reshape(3, 3).sum(axis=1))"
   ]
  },
  {
   "cell_type": "code",
   "execution_count": 74,
   "metadata": {},
   "outputs": [
    {
     "name": "stdout",
     "output_type": "stream",
     "text": [
      "[[4.35869895 4.31867726 3.80496064]\n",
      " [4.38257599 2.24020113 4.26423098]]\n",
      "[[1. 1. 1.]\n",
      " [1. 1. 1.]]\n",
      "[[1. 2. 3.]\n",
      " [1. 2. 3.]\n",
      " [1. 2. 3.]]\n",
      "11\n",
      "3.7416573867739413\n",
      "[[ 2  3]\n",
      " [ 6 11]]\n"
     ]
    }
   ],
   "source": [
    "# 广播机制处理不同维度数组之间的操作\n",
    "# 标量和数组的操作, 标量自动把大小扩充为数组大小\n",
    "print(3 * np.random.rand(2, 3) + 2)\n",
    "# 二维数组之间的操作, 其中一个维度实1*m或者n*1, 则自动扩充为m*n\n",
    "print(np.ones((2, 3)) + np.zeros((1, 3)))\n",
    "# 一维数组与二维数组的操作, 将一维数组视作1*m的二维数组\n",
    "print(np.arange(3) + np.ones((3, 3)))\n",
    "# 向量内积的计算\n",
    "print(np.arange(3).dot(np.arange(2, 5)))\n",
    "# 向量范数和矩阵范数\n",
    "print(np.linalg.norm(np.arange(4).reshape(2, 2), 'fro'))\n",
    "# 矩阵乘法\n",
    "print(np.arange(4).reshape(2, 2) @ (np.arange(4).reshape(2, 2)))\n"
   ]
  }
 ],
 "metadata": {
  "kernelspec": {
   "display_name": "base",
   "language": "python",
   "name": "python3"
  },
  "language_info": {
   "codemirror_mode": {
    "name": "ipython",
    "version": 3
   },
   "file_extension": ".py",
   "mimetype": "text/x-python",
   "name": "python",
   "nbconvert_exporter": "python",
   "pygments_lexer": "ipython3",
   "version": "3.12.0"
  }
 },
 "nbformat": 4,
 "nbformat_minor": 2
}
